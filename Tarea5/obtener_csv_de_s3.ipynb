{
 "cells": [
  {
   "cell_type": "code",
   "execution_count": 1,
   "id": "d22134c3-71a2-4809-8a29-0dfb6c93bd56",
   "metadata": {
    "execution": {
     "iopub.execute_input": "2025-10-13T17:27:57.945670Z",
     "iopub.status.busy": "2025-10-13T17:27:57.945415Z",
     "iopub.status.idle": "2025-10-13T17:27:58.472673Z",
     "shell.execute_reply": "2025-10-13T17:27:58.471737Z"
    }
   },
   "outputs": [],
   "source": [
    "import boto3\n",
    "import pandas as pd\n",
    "from io import StringIO"
   ]
  },
  {
   "cell_type": "code",
   "execution_count": 2,
   "id": "ad106a81-d32b-4121-8653-6cf922547954",
   "metadata": {
    "execution": {
     "iopub.execute_input": "2025-10-13T17:27:58.475736Z",
     "iopub.status.busy": "2025-10-13T17:27:58.475369Z",
     "iopub.status.idle": "2025-10-13T17:27:58.480027Z",
     "shell.execute_reply": "2025-10-13T17:27:58.479112Z"
    }
   },
   "outputs": [],
   "source": [
    "bucket_name = 'xideralaws-curso-jonathan'\n",
    "file_key = 'datos_bucket_from_lambda.csv'"
   ]
  },
  {
   "cell_type": "code",
   "execution_count": 3,
   "id": "fd0d301a-b508-41e7-bd1f-ece8eedb0c0e",
   "metadata": {
    "execution": {
     "iopub.execute_input": "2025-10-13T17:27:58.482774Z",
     "iopub.status.busy": "2025-10-13T17:27:58.482517Z",
     "iopub.status.idle": "2025-10-13T17:27:58.612006Z",
     "shell.execute_reply": "2025-10-13T17:27:58.611149Z"
    }
   },
   "outputs": [],
   "source": [
    "s3 = boto3.client('s3')"
   ]
  },
  {
   "cell_type": "code",
   "execution_count": 4,
   "id": "e175964c-e07d-477b-98bc-440797992e83",
   "metadata": {
    "execution": {
     "iopub.execute_input": "2025-10-13T17:27:58.614776Z",
     "iopub.status.busy": "2025-10-13T17:27:58.614508Z",
     "iopub.status.idle": "2025-10-13T17:27:58.704126Z",
     "shell.execute_reply": "2025-10-13T17:27:58.703270Z"
    }
   },
   "outputs": [],
   "source": [
    "obj = s3.get_object(Bucket=bucket_name, Key=file_key)"
   ]
  },
  {
   "cell_type": "code",
   "execution_count": 5,
   "id": "001f6bd2-614a-4113-b930-5ee25a7c55e5",
   "metadata": {
    "execution": {
     "iopub.execute_input": "2025-10-13T17:27:58.706984Z",
     "iopub.status.busy": "2025-10-13T17:27:58.706709Z",
     "iopub.status.idle": "2025-10-13T17:27:58.715102Z",
     "shell.execute_reply": "2025-10-13T17:27:58.714173Z"
    }
   },
   "outputs": [],
   "source": [
    "df = pd.read_csv(obj['Body'])"
   ]
  },
  {
   "cell_type": "code",
   "execution_count": 6,
   "id": "49129d3c-52e5-4e8d-83ba-1667464c7b98",
   "metadata": {
    "execution": {
     "iopub.execute_input": "2025-10-13T17:27:58.717708Z",
     "iopub.status.busy": "2025-10-13T17:27:58.717441Z",
     "iopub.status.idle": "2025-10-13T17:27:58.725267Z",
     "shell.execute_reply": "2025-10-13T17:27:58.724433Z"
    }
   },
   "outputs": [],
   "source": [
    "df[\"timestamp\"]=pd.to_datetime(df[\"timestamp\"])"
   ]
  },
  {
   "cell_type": "code",
   "execution_count": 7,
   "id": "607f5e1f-df5b-4a03-90f7-13fdbfe56b6e",
   "metadata": {
    "execution": {
     "iopub.execute_input": "2025-10-13T17:27:58.728143Z",
     "iopub.status.busy": "2025-10-13T17:27:58.727864Z",
     "iopub.status.idle": "2025-10-13T17:27:58.736086Z",
     "shell.execute_reply": "2025-10-13T17:27:58.735160Z"
    }
   },
   "outputs": [],
   "source": [
    "df[\"fecha\"]=df[\"timestamp\"].dt.date\n",
    "df[\"hora\"]=df[\"timestamp\"].dt.hour\n",
    "df[\"minuto\"]=df[\"timestamp\"].dt.minute\n",
    "df[\"second\"]=df[\"timestamp\"].dt.second"
   ]
  },
  {
   "cell_type": "code",
   "execution_count": 8,
   "id": "b5c256da-5294-400a-b2f8-91465f695d33",
   "metadata": {
    "execution": {
     "iopub.execute_input": "2025-10-13T17:27:58.738597Z",
     "iopub.status.busy": "2025-10-13T17:27:58.738300Z",
     "iopub.status.idle": "2025-10-13T17:27:58.748656Z",
     "shell.execute_reply": "2025-10-13T17:27:58.747807Z"
    }
   },
   "outputs": [],
   "source": [
    "df.to_csv('datos_bucket_from_lambda.csv', index=False)"
   ]
  },
  {
   "cell_type": "code",
   "execution_count": 9,
   "id": "8bbba5b3-8664-41a0-9156-5dbe4b84037b",
   "metadata": {
    "execution": {
     "iopub.execute_input": "2025-10-13T17:27:58.751286Z",
     "iopub.status.busy": "2025-10-13T17:27:58.750992Z",
     "iopub.status.idle": "2025-10-13T17:27:58.755004Z",
     "shell.execute_reply": "2025-10-13T17:27:58.754227Z"
    }
   },
   "outputs": [],
   "source": [
    "#df[(df[\"server_id\"].isin([\"server-1\", \"server-2\"])) & (df[\"region\"].isin([\"us-west-2\"]))].to_csv(\"servidores1-2.csv\", index=False)"
   ]
  },
  {
   "cell_type": "code",
   "execution_count": null,
   "id": "496c1f77-af15-4a3b-b2f3-a47740bebf4d",
   "metadata": {},
   "outputs": [],
   "source": []
  },
  {
   "cell_type": "code",
   "execution_count": null,
   "id": "a1ec47ff-e497-4eb3-b23b-65650f841bf8",
   "metadata": {},
   "outputs": [],
   "source": []
  },
  {
   "cell_type": "code",
   "execution_count": null,
   "id": "f02d79ee-61f1-4784-a80f-141538a9cfab",
   "metadata": {},
   "outputs": [],
   "source": []
  },
  {
   "cell_type": "code",
   "execution_count": null,
   "id": "f4a0529d-52ca-446f-84c7-f9bea787d786",
   "metadata": {},
   "outputs": [],
   "source": []
  },
  {
   "cell_type": "code",
   "execution_count": null,
   "id": "233336dc-e8bb-477d-863b-447db3d58ad6",
   "metadata": {},
   "outputs": [],
   "source": []
  },
  {
   "cell_type": "code",
   "execution_count": null,
   "id": "5b2c59c8-56d4-4f67-82d2-c582362bbad1",
   "metadata": {},
   "outputs": [],
   "source": []
  },
  {
   "cell_type": "code",
   "execution_count": null,
   "id": "3c6f1ea5-2d8e-4aff-9cba-b5ed3d04ca15",
   "metadata": {},
   "outputs": [],
   "source": []
  },
  {
   "cell_type": "code",
   "execution_count": null,
   "id": "9563ffe8-3b69-4704-9ebb-d06b0c2cb284",
   "metadata": {},
   "outputs": [],
   "source": []
  },
  {
   "cell_type": "code",
   "execution_count": null,
   "id": "c81cf7f5-905f-4ec2-be96-a23266e496f5",
   "metadata": {},
   "outputs": [],
   "source": []
  },
  {
   "cell_type": "code",
   "execution_count": null,
   "id": "a54611a1-1dd3-4926-957d-09d7bca877dc",
   "metadata": {},
   "outputs": [],
   "source": []
  },
  {
   "cell_type": "code",
   "execution_count": null,
   "id": "56761d21-dea3-4a79-abab-030e01fa15be",
   "metadata": {},
   "outputs": [],
   "source": []
  },
  {
   "cell_type": "code",
   "execution_count": null,
   "id": "4fa9f2c3-8433-4fad-b09d-491b03f5302d",
   "metadata": {},
   "outputs": [],
   "source": []
  },
  {
   "cell_type": "code",
   "execution_count": null,
   "id": "74ce1594-49f1-40ce-8b9d-32ef1d55867a",
   "metadata": {},
   "outputs": [],
   "source": []
  },
  {
   "cell_type": "code",
   "execution_count": null,
   "id": "f2fca9ae-58df-4cf8-a31b-efc2abadf3fb",
   "metadata": {},
   "outputs": [],
   "source": []
  },
  {
   "cell_type": "code",
   "execution_count": null,
   "id": "d7a0354f-6e35-4015-97e8-c0dd58b354ac",
   "metadata": {},
   "outputs": [],
   "source": []
  },
  {
   "cell_type": "code",
   "execution_count": null,
   "id": "9a42f4e8-53fe-473e-8a5c-be55bf06a7f3",
   "metadata": {},
   "outputs": [],
   "source": []
  },
  {
   "cell_type": "code",
   "execution_count": null,
   "id": "aceadb9b-3ab8-49be-aac8-da7b6879c257",
   "metadata": {},
   "outputs": [],
   "source": []
  },
  {
   "cell_type": "code",
   "execution_count": null,
   "id": "13c80479-ba20-4589-a7e0-4625e24b6bc6",
   "metadata": {},
   "outputs": [],
   "source": []
  },
  {
   "cell_type": "code",
   "execution_count": null,
   "id": "51c552b4-7e2f-483b-8000-15294bd6afe0",
   "metadata": {},
   "outputs": [],
   "source": []
  }
 ],
 "metadata": {
  "kernelspec": {
   "display_name": "Python 3 (ipykernel)",
   "language": "python",
   "name": "python3"
  },
  "language_info": {
   "codemirror_mode": {
    "name": "ipython",
    "version": 3
   },
   "file_extension": ".py",
   "mimetype": "text/x-python",
   "name": "python",
   "nbconvert_exporter": "python",
   "pygments_lexer": "ipython3",
   "version": "3.12.3"
  }
 },
 "nbformat": 4,
 "nbformat_minor": 5
}
