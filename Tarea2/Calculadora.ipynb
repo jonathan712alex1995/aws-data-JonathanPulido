{
 "cells": [
  {
   "cell_type": "code",
   "execution_count": 1,
   "id": "18b20703-87f9-4c14-941f-9e4f98c48e84",
   "metadata": {},
   "outputs": [
    {
     "name": "stdout",
     "output_type": "stream",
     "text": [
      "jonathan\n"
     ]
    }
   ],
   "source": [
    "cad1=\"jonathan\"\n",
    "print(cad1)"
   ]
  },
  {
   "cell_type": "code",
   "execution_count": null,
   "id": "bcde6ea2-fa34-41d2-b70b-214639eaa841",
   "metadata": {},
   "outputs": [],
   "source": []
  }
 ],
 "metadata": {
  "kernelspec": {
   "display_name": "Python 3 (ipykernel)",
   "language": "python",
   "name": "python3"
  },
  "language_info": {
   "codemirror_mode": {
    "name": "ipython",
    "version": 3
   },
   "file_extension": ".py",
   "mimetype": "text/x-python",
   "name": "python",
   "nbconvert_exporter": "python",
   "pygments_lexer": "ipython3",
   "version": "3.12.3"
  }
 },
 "nbformat": 4,
 "nbformat_minor": 5
}
